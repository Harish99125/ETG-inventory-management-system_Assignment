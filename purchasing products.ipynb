{
 "cells": [
  {
   "cell_type": "markdown",
   "id": "c2a365b2",
   "metadata": {},
   "source": [
    "Read inventory"
   ]
  },
  {
   "cell_type": "code",
   "execution_count": 1,
   "id": "53c8d5bb",
   "metadata": {},
   "outputs": [],
   "source": [
    "import json"
   ]
  },
  {
   "cell_type": "code",
   "execution_count": 4,
   "id": "eb3b5d52",
   "metadata": {},
   "outputs": [],
   "source": [
    "fd=open(\"dmart.json\",'r')\n",
    "r=fd.read()\n",
    "fd.close()\n",
    "dmart=json.loads(r)"
   ]
  },
  {
   "cell_type": "code",
   "execution_count": 5,
   "id": "d4205732",
   "metadata": {},
   "outputs": [
    {
     "data": {
      "text/plain": [
       "{'101': {'name': 'drinks',\n",
       "  'price': '48',\n",
       "  'quantity': '30',\n",
       "  'discount': '10',\n",
       "  'expiry-date': '10-04-2023'},\n",
       " '102': {'name': 'chochalate',\n",
       "  'price': '10',\n",
       "  'quantity': '60',\n",
       "  'discount': '0',\n",
       "  'expiry-date': ' 17-09-2024'},\n",
       " '103': {'name': 'cake',\n",
       "  'price': '300',\n",
       "  'quantity': '30',\n",
       "  'discount': '10',\n",
       "  'expiry-date': '1day'},\n",
       " '104': {'name': 'biscuits',\n",
       "  'price': '50',\n",
       "  'quantity': '67',\n",
       "  'discount': '2',\n",
       "  'expiry-date': '10-12-2021'},\n",
       " '105': {'name': ' muffins',\n",
       "  'price': '40',\n",
       "  'quantity': '40',\n",
       "  'discount': '3',\n",
       "  'expiry-date': '10-09-2021'},\n",
       " '106': {'name': 'pizza',\n",
       "  'price': '100',\n",
       "  'quantity': '33',\n",
       "  'discount': '4',\n",
       "  'expiry-date': '1day'},\n",
       " '107': {'name': 'sweets',\n",
       "  'price': '250',\n",
       "  'quantity': '34',\n",
       "  'discount': '10',\n",
       "  'expiry-date': '12-04-2021'},\n",
       " '108': {'name': 'cookies',\n",
       "  'price': '100',\n",
       "  'quantity': '45',\n",
       "  'discount': '5',\n",
       "  'expiry-date': '10-08-2021'},\n",
       " '109': {'name': 'bread',\n",
       "  'price': '22',\n",
       "  'quantity': '30',\n",
       "  'discount': '4',\n",
       "  'expiry-date': '13-10-2023'},\n",
       " '110': {'name': 'veg puff',\n",
       "  'price': '25',\n",
       "  'quantity': '30',\n",
       "  'discount': '2',\n",
       "  'expiry-date': '12-02-2021'},\n",
       " '111': {'name': 'egg puff',\n",
       "  'price': '30',\n",
       "  'quantity': '30',\n",
       "  'discount': '10',\n",
       "  'expiry-date': '18-04-2021'},\n",
       " '112': {'name': 'ice-cream',\n",
       "  'price': '120',\n",
       "  'quantity': '45',\n",
       "  'discount': '15',\n",
       "  'expiry-date': '30-05-2021'},\n",
       " '113': {'name': 'chips',\n",
       "  'price': '20',\n",
       "  'quantity': '56',\n",
       "  'discount': '0',\n",
       "  'expiry-date': '12-04-2021'},\n",
       " '114': {'name': 'pastry',\n",
       "  'price': '45',\n",
       "  'quantity': '45',\n",
       "  'discount': '10',\n",
       "  'expiry-date': '10-05-2021'},\n",
       " '115': {'name': 'cupcakes',\n",
       "  'price': '30',\n",
       "  'quantity': '20',\n",
       "  'discount': '2',\n",
       "  'expiry-date': '15-08-2021'},\n",
       " '116': {'name': 'rusktoast',\n",
       "  'price': '60',\n",
       "  'quantity': '32',\n",
       "  'discount': '3',\n",
       "  'expiry-date': '09-02-2022'},\n",
       " '117': {'name': 'milk',\n",
       "  'price': '25',\n",
       "  'quantity': '30',\n",
       "  'discount': '10',\n",
       "  'expiry-date': '08-09-2021'},\n",
       " '118': {'name': 'papad',\n",
       "  'price': '30',\n",
       "  'quantity': '20',\n",
       "  'discount': '2',\n",
       "  'expiry-date': '10-4-2023'},\n",
       " '119': {'name': 'honey',\n",
       "  'price': '75',\n",
       "  'quantity': '40',\n",
       "  'discount': '10',\n",
       "  'expiry-date': '16-09-2023'},\n",
       " '120': {'name': 'paneer',\n",
       "  'price': '79',\n",
       "  'quantity': '43',\n",
       "  'discount': '4',\n",
       "  'expiry-date': '09-05-2021'},\n",
       " '121': {'name': 'dry-fruits',\n",
       "  'price': '250',\n",
       "  'quantity': '54',\n",
       "  'discount': '5',\n",
       "  'expiry-date': '08-10-2023'},\n",
       " '122': {'name': 'cheese',\n",
       "  'price': '78',\n",
       "  'quantity': '32',\n",
       "  'discount': '2',\n",
       "  'expiry-date': '14-06-2021'},\n",
       " '123': {'name': 'sandwich',\n",
       "  'price': '48',\n",
       "  'quantity': '30',\n",
       "  'discount': '2',\n",
       "  'expiry-date': '08-05-2021'},\n",
       " '124': {'name': 'maggi',\n",
       "  'price': '30',\n",
       "  'quantity': '30',\n",
       "  'discount': '3',\n",
       "  'expiry-date': '10-04-2022'},\n",
       " '125': {'name': 'spices',\n",
       "  'price': '89',\n",
       "  'quantity': '45',\n",
       "  'discount': '14',\n",
       "  'expiry-date': '15-06-2023'},\n",
       " '126': {'name': 'oil',\n",
       "  'price': '130',\n",
       "  'quantity': '67',\n",
       "  'discount': '10',\n",
       "  'expiry-date': '20-07-2023'},\n",
       " '127': {'name': 'salt',\n",
       "  'price': '15',\n",
       "  'quantity': '55',\n",
       "  'discount': '2',\n",
       "  'expiry-date': '25-06-2022'},\n",
       " '128': {'name': 'coffee',\n",
       "  'price': '45',\n",
       "  'quantity': '25',\n",
       "  'discount': '2',\n",
       "  'expiry-date': '02-05-2021'},\n",
       " '129': {'name': 'popcorn',\n",
       "  'price': '56',\n",
       "  'quantity': '30',\n",
       "  'discount': '6',\n",
       "  'expiry-date': '09-02-2021'},\n",
       " '130': {'name': 'soya-sauce',\n",
       "  'price': '50',\n",
       "  'quantity': '30',\n",
       "  'discount': '5',\n",
       "  'expiry-date': '19-06-2022'},\n",
       " '131': {'name': 'sops',\n",
       "  'price': 165,\n",
       "  'quantity': 40,\n",
       "  'discount': 10,\n",
       "  'expiry_date:': 6092022},\n",
       " '132': {'name': 'chiken',\n",
       "  'price': 250,\n",
       "  'quantity': 60,\n",
       "  'discount': 5,\n",
       "  'expiry_date:': 10112021},\n",
       " '133': {'name': 'maggi',\n",
       "  'price': 90,\n",
       "  'quantity': 50,\n",
       "  'discount': 10,\n",
       "  'expiry_date:': 4062022},\n",
       " '134': {'name': 'colthes',\n",
       "  'price': 600,\n",
       "  'quantity': 50,\n",
       "  'discount': 10,\n",
       "  'expiry_date:': 6092055},\n",
       " '135': {'name': 'bresh',\n",
       "  'price': 50,\n",
       "  'quantity': 10,\n",
       "  'discount': 5,\n",
       "  'expiry_date:': 6092022}}"
      ]
     },
     "execution_count": 5,
     "metadata": {},
     "output_type": "execute_result"
    }
   ],
   "source": [
    "dmart"
   ]
  },
  {
   "cell_type": "code",
   "execution_count": 76,
   "id": "43f962d5",
   "metadata": {},
   "outputs": [
    {
     "name": "stdout",
     "output_type": "stream",
     "text": [
      "enter the product_id:128\n",
      "enter the quantity2\n",
      " product name coffee\n",
      "price: 45\n",
      "discount: 2\n",
      "discount_Amount: 0.9\n",
      "final_Amount: 44.1\n",
      "billing Amount: 88.2\n"
     ]
    }
   ],
   "source": [
    "ui_prod=str(input(\"enter the product_id:\"))\n",
    "ui_quant=int(input(\"enter the quantity\"))\n",
    "print(\" product name\",dmart[ui_prod]['name'])\n",
    "print(\"price:\",dmart[ui_prod]['price'])\n",
    "print(\"discount:\",dmart[ui_prod]['discount'])\n",
    "discount_Amount=int(dmart[ui_prod]['price'])*float(dmart[ui_prod]['discount'])/100\n",
    "print(\"discount_Amount:\",discount_Amount)\n",
    "final_Amount=int(dmart[ui_prod]['price'])- discount_Amount\n",
    "print(\"final_Amount:\",final_Amount)\n",
    "print(\"billing Amount:\", final_Amount*ui_quant)\n",
    "dmart[ui_prod]['quantity']=int(dmart[ui_prod]['quantity'])- ui_quant"
   ]
  },
  {
   "cell_type": "code",
   "execution_count": 77,
   "id": "d4c40d85",
   "metadata": {},
   "outputs": [
    {
     "data": {
      "text/plain": [
       "{'101': {'name': 'drinks',\n",
       "  'price': '48',\n",
       "  'quantity': '30',\n",
       "  'discount': '10',\n",
       "  'expiry-date': '10-04-2023'},\n",
       " '102': {'name': 'chochalate',\n",
       "  'price': '10',\n",
       "  'quantity': '60',\n",
       "  'discount': '0',\n",
       "  'expiry-date': ' 17-09-2024'},\n",
       " '103': {'name': 'cake',\n",
       "  'price': '300',\n",
       "  'quantity': '30',\n",
       "  'discount': '10',\n",
       "  'expiry-date': '1day'},\n",
       " '104': {'name': 'biscuits',\n",
       "  'price': '50',\n",
       "  'quantity': '67',\n",
       "  'discount': '2',\n",
       "  'expiry-date': '10-12-2021'},\n",
       " '105': {'name': ' muffins',\n",
       "  'price': '40',\n",
       "  'quantity': '40',\n",
       "  'discount': '3',\n",
       "  'expiry-date': '10-09-2021'},\n",
       " '106': {'name': 'pizza',\n",
       "  'price': '100',\n",
       "  'quantity': '33',\n",
       "  'discount': '4',\n",
       "  'expiry-date': '1day'},\n",
       " '107': {'name': 'sweets',\n",
       "  'price': '250',\n",
       "  'quantity': '34',\n",
       "  'discount': '10',\n",
       "  'expiry-date': '12-04-2021'},\n",
       " '108': {'name': 'cookies',\n",
       "  'price': '100',\n",
       "  'quantity': '45',\n",
       "  'discount': '5',\n",
       "  'expiry-date': '10-08-2021'},\n",
       " '109': {'name': 'bread',\n",
       "  'price': '22',\n",
       "  'quantity': '30',\n",
       "  'discount': '4',\n",
       "  'expiry-date': '13-10-2023'},\n",
       " '110': {'name': 'veg puff',\n",
       "  'price': '25',\n",
       "  'quantity': '30',\n",
       "  'discount': '2',\n",
       "  'expiry-date': '12-02-2021'},\n",
       " '111': {'name': 'egg puff',\n",
       "  'price': '30',\n",
       "  'quantity': '30',\n",
       "  'discount': '10',\n",
       "  'expiry-date': '18-04-2021'},\n",
       " '112': {'name': 'ice-cream',\n",
       "  'price': '120',\n",
       "  'quantity': '45',\n",
       "  'discount': '15',\n",
       "  'expiry-date': '30-05-2021'},\n",
       " '113': {'name': 'chips',\n",
       "  'price': '20',\n",
       "  'quantity': 54,\n",
       "  'discount': '0',\n",
       "  'expiry-date': '12-04-2021'},\n",
       " '114': {'name': 'pastry',\n",
       "  'price': '45',\n",
       "  'quantity': '45',\n",
       "  'discount': '10',\n",
       "  'expiry-date': '10-05-2021'},\n",
       " '115': {'name': 'cupcakes',\n",
       "  'price': '30',\n",
       "  'quantity': '20',\n",
       "  'discount': '2',\n",
       "  'expiry-date': '15-08-2021'},\n",
       " '116': {'name': 'rusktoast',\n",
       "  'price': '60',\n",
       "  'quantity': '32',\n",
       "  'discount': '3',\n",
       "  'expiry-date': '09-02-2022'},\n",
       " '117': {'name': 'milk',\n",
       "  'price': '25',\n",
       "  'quantity': 28,\n",
       "  'discount': '10',\n",
       "  'expiry-date': '08-09-2021'},\n",
       " '118': {'name': 'papad',\n",
       "  'price': '30',\n",
       "  'quantity': '20',\n",
       "  'discount': '2',\n",
       "  'expiry-date': '10-4-2023'},\n",
       " '119': {'name': 'honey',\n",
       "  'price': '75',\n",
       "  'quantity': 39,\n",
       "  'discount': '10',\n",
       "  'expiry-date': '16-09-2023'},\n",
       " '120': {'name': 'paneer',\n",
       "  'price': '79',\n",
       "  'quantity': 41,\n",
       "  'discount': '4',\n",
       "  'expiry-date': '09-05-2021'},\n",
       " '121': {'name': 'dry-fruits',\n",
       "  'price': '250',\n",
       "  'quantity': '54',\n",
       "  'discount': '5',\n",
       "  'expiry-date': '08-10-2023'},\n",
       " '122': {'name': 'cheese',\n",
       "  'price': '78',\n",
       "  'quantity': 31,\n",
       "  'discount': '2',\n",
       "  'expiry-date': '14-06-2021'},\n",
       " '123': {'name': 'sandwich',\n",
       "  'price': '48',\n",
       "  'quantity': '30',\n",
       "  'discount': '2',\n",
       "  'expiry-date': '08-05-2021'},\n",
       " '124': {'name': 'maggi',\n",
       "  'price': '30',\n",
       "  'quantity': 28,\n",
       "  'discount': '3',\n",
       "  'expiry-date': '10-04-2022'},\n",
       " '125': {'name': 'spices',\n",
       "  'price': '89',\n",
       "  'quantity': '45',\n",
       "  'discount': '14',\n",
       "  'expiry-date': '15-06-2023'},\n",
       " '126': {'name': 'oil',\n",
       "  'price': '130',\n",
       "  'quantity': 66,\n",
       "  'discount': '10',\n",
       "  'expiry-date': '20-07-2023'},\n",
       " '127': {'name': 'salt',\n",
       "  'price': '15',\n",
       "  'quantity': 54,\n",
       "  'discount': '2',\n",
       "  'expiry-date': '25-06-2022'},\n",
       " '128': {'name': 'coffee',\n",
       "  'price': '45',\n",
       "  'quantity': 23,\n",
       "  'discount': '2',\n",
       "  'expiry-date': '02-05-2021'},\n",
       " '129': {'name': 'popcorn',\n",
       "  'price': '56',\n",
       "  'quantity': '30',\n",
       "  'discount': '6',\n",
       "  'expiry-date': '09-02-2021'},\n",
       " '130': {'name': 'soya-sauce',\n",
       "  'price': '50',\n",
       "  'quantity': '30',\n",
       "  'discount': '5',\n",
       "  'expiry-date': '19-06-2022'},\n",
       " '131': {'name': 'sops',\n",
       "  'price': 165,\n",
       "  'quantity': 40,\n",
       "  'discount': 10,\n",
       "  'expiry_date:': 6092022},\n",
       " '132': {'name': 'chiken',\n",
       "  'price': 250,\n",
       "  'quantity': 60,\n",
       "  'discount': 5,\n",
       "  'expiry_date:': 10112021},\n",
       " '133': {'name': 'maggi',\n",
       "  'price': 90,\n",
       "  'quantity': 50,\n",
       "  'discount': 10,\n",
       "  'expiry_date:': 4062022},\n",
       " '134': {'name': 'colthes',\n",
       "  'price': 600,\n",
       "  'quantity': 50,\n",
       "  'discount': 10,\n",
       "  'expiry_date:': 6092055},\n",
       " '135': {'name': 'bresh',\n",
       "  'price': 50,\n",
       "  'quantity': 10,\n",
       "  'discount': 5,\n",
       "  'expiry_date:': 6092022}}"
      ]
     },
     "execution_count": 77,
     "metadata": {},
     "output_type": "execute_result"
    }
   ],
   "source": [
    "dmart"
   ]
  },
  {
   "cell_type": "markdown",
   "id": "cf13c26d",
   "metadata": {},
   "source": [
    "update product ofter purchases"
   ]
  },
  {
   "cell_type": "code",
   "execution_count": 78,
   "id": "4100d399",
   "metadata": {},
   "outputs": [],
   "source": [
    "js=json.dumps(dmart)\n",
    "fd=open(\"dmart.json\",'w')\n",
    "fd.write(js)\n",
    "fd.close()"
   ]
  },
  {
   "cell_type": "markdown",
   "id": "a5827a9e",
   "metadata": {},
   "source": [
    "sales json"
   ]
  },
  {
   "cell_type": "code",
   "execution_count": 10,
   "id": "18ccfb0a",
   "metadata": {},
   "outputs": [],
   "source": [
    "sales={1:{'prod':ui_prod,'quantity':ui_quant,'billing Amount':final_Amount*ui_quant}}"
   ]
  },
  {
   "cell_type": "code",
   "execution_count": 11,
   "id": "f8af3214",
   "metadata": {},
   "outputs": [
    {
     "data": {
      "text/plain": [
       "'{\"1\": {\"prod\": \"113\", \"quantity\": 2, \"billing Amount\": 40.0}}'"
      ]
     },
     "execution_count": 11,
     "metadata": {},
     "output_type": "execute_result"
    }
   ],
   "source": [
    "json.dumps(sales)"
   ]
  },
  {
   "cell_type": "code",
   "execution_count": 12,
   "id": "b37b12de",
   "metadata": {},
   "outputs": [],
   "source": [
    "fd=open(\"dmart.json\",'r')\n",
    "r=fd.read()\n",
    "fd.close()"
   ]
  },
  {
   "cell_type": "code",
   "execution_count": 40,
   "id": "8c72c959",
   "metadata": {},
   "outputs": [
    {
     "data": {
      "text/plain": [
       "{5: {'prod': '120', 'quantity': 2, 'billing Amount': 151.68}}"
      ]
     },
     "execution_count": 40,
     "metadata": {},
     "output_type": "execute_result"
    }
   ],
   "source": [
    "{(len(sales)+1):{'prod':ui_prod,'quantity':ui_quant,'billing Amount':final_Amount*ui_quant}}"
   ]
  },
  {
   "cell_type": "code",
   "execution_count": 79,
   "id": "3b6a586b",
   "metadata": {},
   "outputs": [],
   "source": [
    "sales[(len(sales)+1)]={'prod':ui_prod,'quantity':ui_quant,'billing Amount':final_Amount*ui_quant}"
   ]
  },
  {
   "cell_type": "code",
   "execution_count": 80,
   "id": "88c48622",
   "metadata": {},
   "outputs": [
    {
     "data": {
      "text/plain": [
       "{1: {'prod': '113', 'quantity': 2, 'billing Amount': 40.0},\n",
       " 2: {'prod': '113', 'quantity': 2, 'billing Amount': 40.0},\n",
       " 3: {'prod': '117', 'quantity': 2, 'billing Amount': 45.0},\n",
       " 4: {'prod': '119', 'quantity': 1, 'billing Amount': 67.5},\n",
       " 5: {'prod': '120', 'quantity': 2, 'billing Amount': 151.68},\n",
       " 6: {'prod': '122', 'quantity': 1, 'billing Amount': 76.44},\n",
       " 7: {'prod': '124', 'quantity': 2, 'billing Amount': 58.2},\n",
       " 8: {'prod': '126', 'quantity': 1, 'billing Amount': 117.0},\n",
       " 9: {'prod': '127', 'quantity': 1, 'billing Amount': 14.7},\n",
       " 10: {'prod': '128', 'quantity': 2, 'billing Amount': 88.2}}"
      ]
     },
     "execution_count": 80,
     "metadata": {},
     "output_type": "execute_result"
    }
   ],
   "source": [
    "sales"
   ]
  },
  {
   "cell_type": "code",
   "execution_count": 81,
   "id": "e138dd80",
   "metadata": {},
   "outputs": [],
   "source": [
    "sale=json.dumps(sales)"
   ]
  },
  {
   "cell_type": "code",
   "execution_count": 82,
   "id": "bbb10e95",
   "metadata": {},
   "outputs": [
    {
     "data": {
      "text/plain": [
       "'{\"1\": {\"prod\": \"113\", \"quantity\": 2, \"billing Amount\": 40.0}, \"2\": {\"prod\": \"113\", \"quantity\": 2, \"billing Amount\": 40.0}, \"3\": {\"prod\": \"117\", \"quantity\": 2, \"billing Amount\": 45.0}, \"4\": {\"prod\": \"119\", \"quantity\": 1, \"billing Amount\": 67.5}, \"5\": {\"prod\": \"120\", \"quantity\": 2, \"billing Amount\": 151.68}, \"6\": {\"prod\": \"122\", \"quantity\": 1, \"billing Amount\": 76.44}, \"7\": {\"prod\": \"124\", \"quantity\": 2, \"billing Amount\": 58.2}, \"8\": {\"prod\": \"126\", \"quantity\": 1, \"billing Amount\": 117.0}, \"9\": {\"prod\": \"127\", \"quantity\": 1, \"billing Amount\": 14.7}, \"10\": {\"prod\": \"128\", \"quantity\": 2, \"billing Amount\": 88.2}}'"
      ]
     },
     "execution_count": 82,
     "metadata": {},
     "output_type": "execute_result"
    }
   ],
   "source": [
    "sale"
   ]
  },
  {
   "cell_type": "code",
   "execution_count": 83,
   "id": "4728358d",
   "metadata": {},
   "outputs": [],
   "source": [
    "fd=open(\"sales.json\",'w')\n",
    "r=fd.write(sale)\n",
    "fd.close()"
   ]
  },
  {
   "cell_type": "code",
   "execution_count": null,
   "id": "f2804ea0",
   "metadata": {},
   "outputs": [],
   "source": []
  }
 ],
 "metadata": {
  "kernelspec": {
   "display_name": "Python 3",
   "language": "python",
   "name": "python3"
  },
  "language_info": {
   "codemirror_mode": {
    "name": "ipython",
    "version": 3
   },
   "file_extension": ".py",
   "mimetype": "text/x-python",
   "name": "python",
   "nbconvert_exporter": "python",
   "pygments_lexer": "ipython3",
   "version": "3.8.8"
  }
 },
 "nbformat": 4,
 "nbformat_minor": 5
}
